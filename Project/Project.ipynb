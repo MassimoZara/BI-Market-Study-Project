{
 "cells": [
  {
   "cell_type": "code",
   "execution_count": 3,
   "metadata": {},
   "outputs": [
    {
     "name": "stdout",
     "output_type": "stream",
     "text": [
      "[*********************100%***********************]  1 of 1 completed\n"
     ]
    },
    {
     "data": {
      "text/html": [
       "<div>\n",
       "<style scoped>\n",
       "    .dataframe tbody tr th:only-of-type {\n",
       "        vertical-align: middle;\n",
       "    }\n",
       "\n",
       "    .dataframe tbody tr th {\n",
       "        vertical-align: top;\n",
       "    }\n",
       "\n",
       "    .dataframe thead th {\n",
       "        text-align: right;\n",
       "    }\n",
       "</style>\n",
       "<table border=\"1\" class=\"dataframe\">\n",
       "  <thead>\n",
       "    <tr style=\"text-align: right;\">\n",
       "      <th></th>\n",
       "      <th>Open</th>\n",
       "      <th>High</th>\n",
       "      <th>Low</th>\n",
       "      <th>Close</th>\n",
       "      <th>Adj Close</th>\n",
       "      <th>Volume</th>\n",
       "    </tr>\n",
       "    <tr>\n",
       "      <th>Date</th>\n",
       "      <th></th>\n",
       "      <th></th>\n",
       "      <th></th>\n",
       "      <th></th>\n",
       "      <th></th>\n",
       "      <th></th>\n",
       "    </tr>\n",
       "  </thead>\n",
       "  <tbody>\n",
       "    <tr>\n",
       "      <th>2010-11-30</th>\n",
       "      <td>36.320000</td>\n",
       "      <td>36.980000</td>\n",
       "      <td>36.040001</td>\n",
       "      <td>36.520000</td>\n",
       "      <td>30.360960</td>\n",
       "      <td>12039400</td>\n",
       "    </tr>\n",
       "    <tr>\n",
       "      <th>2010-12-01</th>\n",
       "      <td>37.139999</td>\n",
       "      <td>37.900002</td>\n",
       "      <td>37.139999</td>\n",
       "      <td>37.669998</td>\n",
       "      <td>31.317019</td>\n",
       "      <td>11012000</td>\n",
       "    </tr>\n",
       "    <tr>\n",
       "      <th>2010-12-02</th>\n",
       "      <td>37.680000</td>\n",
       "      <td>38.060001</td>\n",
       "      <td>37.639999</td>\n",
       "      <td>38.049999</td>\n",
       "      <td>31.632935</td>\n",
       "      <td>8600200</td>\n",
       "    </tr>\n",
       "    <tr>\n",
       "      <th>2010-12-03</th>\n",
       "      <td>37.709999</td>\n",
       "      <td>37.980000</td>\n",
       "      <td>37.380001</td>\n",
       "      <td>37.820000</td>\n",
       "      <td>31.545351</td>\n",
       "      <td>5383200</td>\n",
       "    </tr>\n",
       "    <tr>\n",
       "      <th>2010-12-06</th>\n",
       "      <td>37.669998</td>\n",
       "      <td>37.880001</td>\n",
       "      <td>37.240002</td>\n",
       "      <td>37.290001</td>\n",
       "      <td>31.103279</td>\n",
       "      <td>5179900</td>\n",
       "    </tr>\n",
       "  </tbody>\n",
       "</table>\n",
       "</div>"
      ],
      "text/plain": [
       "                 Open       High        Low      Close  Adj Close    Volume\n",
       "Date                                                                       \n",
       "2010-11-30  36.320000  36.980000  36.040001  36.520000  30.360960  12039400\n",
       "2010-12-01  37.139999  37.900002  37.139999  37.669998  31.317019  11012000\n",
       "2010-12-02  37.680000  38.060001  37.639999  38.049999  31.632935   8600200\n",
       "2010-12-03  37.709999  37.980000  37.380001  37.820000  31.545351   5383200\n",
       "2010-12-06  37.669998  37.880001  37.240002  37.290001  31.103279   5179900"
      ]
     },
     "execution_count": 3,
     "metadata": {},
     "output_type": "execute_result"
    }
   ],
   "source": [
    "from datetime import date, datetime\n",
    "import numpy as np\n",
    "import pandas as pd\n",
    "import matplotlib.pyplot as plt\n",
    "import yfinance as yf\n",
    "yf.pdr_override() # <== that's all it takes :-)\n",
    "from pandas_datareader import data as pdr\n",
    "\n",
    "start_date = '2010-11-30'\n",
    "end_date = '2022-11-30'\n",
    "\n",
    "UNHdf = pdr.get_data_yahoo('UNH', start_date, end_date) \n",
    "\n",
    "UNHdf.head()"
   ]
  }
 ],
 "metadata": {
  "kernelspec": {
   "display_name": "Python 3",
   "language": "python",
   "name": "python3"
  },
  "language_info": {
   "codemirror_mode": {
    "name": "ipython",
    "version": 3
   },
   "file_extension": ".py",
   "mimetype": "text/x-python",
   "name": "python",
   "nbconvert_exporter": "python",
   "pygments_lexer": "ipython3",
   "version": "3.11.1"
  },
  "orig_nbformat": 4,
  "vscode": {
   "interpreter": {
    "hash": "0ec61db9111bbe07627b223b0a54ff364d082250272331b4720d436aacbec7d3"
   }
  }
 },
 "nbformat": 4,
 "nbformat_minor": 2
}
