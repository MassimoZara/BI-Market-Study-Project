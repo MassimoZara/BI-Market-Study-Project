{
 "cells": [
  {
   "cell_type": "code",
   "execution_count": null,
   "metadata": {},
   "outputs": [],
   "source": [
    "from datetime import date, datetime\n",
    "import numpy as np\n",
    "import pandas as pd\n",
    "import matplotlib.pyplot as plt\n",
    "import yfinance as yf\n",
    "yf.pdr_override()\n",
    "from pandas_datareader import data as pdr\n",
    "from graph_functions import *\n",
    "\n",
    "start_date = '2010-11-30'\n",
    "end_date = '2022-11-30'"
   ]
  },
  {
   "cell_type": "code",
   "execution_count": null,
   "metadata": {},
   "outputs": [],
   "source": [
    "UNHdf = pdr.get_data_yahoo('UNH', start_date, end_date)     #scarico i dati di UnitedHealth Group Incorporated\n",
    "display(UNHdf.head())\n",
    "\n",
    "HUMdf = pdr.get_data_yahoo('HUM', start_date, end_date)     #scarico i dati di Humana\n",
    "display(HUMdf.head())"
   ]
  },
  {
   "cell_type": "code",
   "execution_count": null,
   "metadata": {},
   "outputs": [],
   "source": [
    "AAPLdf = pdr.get_data_yahoo('AAPL', start_date, end_date)       #scarico i dati di Apple\n",
    "display(AAPLdf.head())\n",
    "\n",
    "MSFTdf = pdr.get_data_yahoo('MSFT', start_date, end_date)      #scarico i dati di Microsoft\n",
    "display(MSFTdf.head())"
   ]
  },
  {
   "cell_type": "code",
   "execution_count": null,
   "metadata": {},
   "outputs": [],
   "source": [
    "RMAXdf = pdr.get_data_yahoo('RMAX', start_date, end_date)       #scarico i dati di Re/Max Holdings Inc\n",
    "display(RMAXdf.head())\n",
    "\n",
    "PLDdf = pdr.get_data_yahoo('PLD', start_date, end_date)         #scarico i dati di Prologis Inc\n",
    "display(PLDdf.head())"
   ]
  },
  {
   "cell_type": "code",
   "execution_count": null,
   "metadata": {},
   "outputs": [],
   "source": [
    "healthCare_simple_return_graph = simple_return_graph(UNHdf,HUMdf,\"UNH\",\"HUM\")\n",
    "healthCare_simple_return_graph.plot(grid = True, subplots = True, title = \"Rendimenti Semplici: UnitedHealth Group Incorporated And Humana\")\n",
    "\n",
    "healthCare_log_graph = logaritmic_graph(UNHdf,HUMdf,\"UNH\",\"HUM\")\n",
    "healthCare_log_graph.plot(grid = True, subplots = True, title = \"Rendimenti Logaritmici: UnitedHealth Group Incorporated And Humana\")"
   ]
  },
  {
   "cell_type": "code",
   "execution_count": null,
   "metadata": {},
   "outputs": [],
   "source": [
    "healthCare_simple_return_graph = simple_return_graph(AAPLdf,MSFTdf,\"AAPL\",\"MSFT\")\n",
    "healthCare_simple_return_graph.plot(grid = True, subplots = True, title = \"Rendimenti Semplici: Apple And Microsoft\")\n",
    "\n",
    "healthCare_log_graph = logaritmic_graph(AAPLdf,MSFTdf,\"AAPL\",\"MSFT\")\n",
    "healthCare_log_graph.plot(grid = True, subplots = True, title = \"Rendimenti Logaritmici: Apple And Microsoft\")"
   ]
  },
  {
   "cell_type": "code",
   "execution_count": null,
   "metadata": {},
   "outputs": [],
   "source": [
    "healthCare_simple_return_graph = simple_return_graph(RMAXdf,PLDdf,\"RMAX\",\"PLD\")\n",
    "healthCare_simple_return_graph.plot(grid = True, subplots = True, title = \"Rendimenti Semplici: Re/Max Holdings Inc And Prologis Inc\")\n",
    "\n",
    "healthCare_log_graph = logaritmic_graph(RMAXdf,PLDdf,\"RMAX\",\"PLD\")\n",
    "healthCare_log_graph.plot(grid = True, subplots = True, title = \"Rendimenti Logaritmici: Re/Max Holdings Inc And Prologis Inc\")"
   ]
  }
 ],
 "metadata": {
  "kernelspec": {
   "display_name": "Python 3",
   "language": "python",
   "name": "python3"
  },
  "language_info": {
   "codemirror_mode": {
    "name": "ipython",
    "version": 3
   },
   "file_extension": ".py",
   "mimetype": "text/x-python",
   "name": "python",
   "nbconvert_exporter": "python",
   "pygments_lexer": "ipython3",
   "version": "3.11.1"
  },
  "orig_nbformat": 4,
  "vscode": {
   "interpreter": {
    "hash": "0ec61db9111bbe07627b223b0a54ff364d082250272331b4720d436aacbec7d3"
   }
  }
 },
 "nbformat": 4,
 "nbformat_minor": 2
}
